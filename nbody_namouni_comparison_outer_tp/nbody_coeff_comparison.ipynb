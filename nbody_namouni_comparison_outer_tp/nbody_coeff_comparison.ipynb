{
 "cells": [
  {
   "cell_type": "markdown",
   "metadata": {},
   "source": [
    "As found in Namoni et al, the effective potential can be expressed as:\n",
    "\n",
    "INSERT\n",
    "\n",
    "\n",
    "In this notebook, we numerically simulate a close encounter between planets to determine the coefficients of this expansion and extract from this the compare the analytical solution for these coefficients as found by Namoni et al."
   ]
  },
  {
   "cell_type": "code",
   "execution_count": null,
   "metadata": {},
   "outputs": [],
   "source": [
    "# Imports\n",
    "import matplotlib.pyplot as plt\n",
    "import rebound\n",
    "import numpy as np"
   ]
  },
  {
   "cell_type": "markdown",
   "metadata": {},
   "source": [
    "### Define constants and parameters\n",
    "\n",
    "The setup consists of two planets in an MMR. We study the Hill approximation, the limit in which the planets are closely spaced and their mass is much smaller than that of the star. In our setup, the inner planet is massive and travels on a circular orbit, and the outer planet is a massless test particle travelling on a slightly eccentric orbit."
   ]
  },
  {
   "cell_type": "code",
   "execution_count": null,
   "metadata": {},
   "outputs": [],
   "source": [
    "mu=3e-12 *125       # m_1/m_star\n",
    "j, k = 100, 1       # j:j-k MMR\n",
    "pomega = np.pi/2    # pericenter of outer test particle\n",
    "phi = 2*np.pi/3     # Angle of conjunction relative to pericenter (resonant angle)\n",
    "\n",
    "n = 2*np.pi         # mean motion of inner planet (is just 2*pi so period = 1)\n",
    "n20 = n*(j-k)/j     # initial mean motion of outer particle (19/20*n) (at resonance value)\n",
    "                    # completes 19 orbits in the same time the inner planet completes 20 orbits\n",
    "dares = (j/(j-k))**(2/3)-1 # delta a_res-- distance between test particle and planet at resonance\n",
    "deltan = 0          # delta n: deviation of mean motion from resonance\n",
    "                    # this small value is added to n20 bc the planet isn't *exactly* at resonance\n",
    "\n",
    "ec = 2*k/3/j        # crossing eccentricity, factor to normalize e\n",
    "etilde = 0.1        # eccentricity ratio to crossing value (e/e_c)\n",
    "\n",
    "e = etilde*ec       # eccentricity\n",
    "deltat = 2/3/n20    # time to move delta a in y at a rate delta v, \n",
    "                    #   where v = a*delta_n and delta_n = n2-n1\n",
    "\n",
    "tconj=j/k           # time between conjunctions\n",
    "\n",
    "epsilon = (1/3*mu)**(1/3) # small mass parameter"
   ]
  },
  {
   "cell_type": "markdown",
   "metadata": {},
   "source": [
    "The following values are found "
   ]
  },
  {
   "cell_type": "code",
   "execution_count": null,
   "metadata": {},
   "outputs": [],
   "source": [
    "# coefficient values from Namouni paper\n",
    "W1 = 3.359\n",
    "W2 = 2.678665722\n",
    "W3 = 2.639498803\n",
    "W4 = 2.8559"
   ]
  },
  {
   "cell_type": "markdown",
   "metadata": {},
   "source": [
    "### Setup"
   ]
  },
  {
   "cell_type": "code",
   "execution_count": null,
   "metadata": {},
   "outputs": [],
   "source": [
    "def setup(t0=-deltat, theta=None, to_print=True): # make sim with sim.t = t0 (where conjunction always happens near t=0, use get_conjunction_time to get exact)\n",
    "    sim = rebound.Simulation()\n",
    "    sim.G = 4*np.pi**2\n",
    "    sim.add(m=1)\n",
    "    sim.add(m=mu, P=1, \n",
    "            l=pomega+phi+n*t0) # phi = l - pomega, so l = pomega+phi\n",
    "    ps = sim.particles\n",
    "    if theta is None:\n",
    "        theta = pomega+phi+n20*t0\n",
    "    sim.add(P=2*np.pi/(n20+deltan), e=etilde*ec, pomega=pomega, l=theta)\n",
    "    sim.t = t0\n",
    "    \n",
    "    if to_print:\n",
    "        print('Hill radius separation:', (sim.particles[2].a-sim.particles[1].a)/(mu/3)**(1/3)) # , sim.particles[1].l\n",
    "    return sim\n",
    "\n",
    "def calc_Delta_a(da_list, conj_idx):\n",
    "    '''returns change in da from before to after conjunction given list of a values \n",
    "       throughout conj'''\n",
    "    da0_max_idx = np.argmax(da_list[:conj_idx]) # max value of a before conjunction, \n",
    "                                              # corresponds to peak just before conj\n",
    "\n",
    "    daf_max_idx = (np.argmax(da_list[conj_idx:]) # max value of a after conjunction \n",
    "                   + conj_idx)                    \n",
    "\n",
    "    da0 = np.mean(da_list[:da0_max_idx])\n",
    "    daf = np.mean(da_list[daf_max_idx:])\n",
    "\n",
    "    Delta_a = daf-da0\n",
    "\n",
    "    return Delta_a, da0, daf"
   ]
  },
  {
   "cell_type": "code",
   "execution_count": null,
   "metadata": {},
   "outputs": [],
   "source": [
    "# Run an encounter\n",
    "\n",
    "# set up integration where conjunction is at time = 0\n",
    "tmin = -0.805*tconj \n",
    "tmax = 0.815*tconj  \n",
    "sim = setup(t0=tmin)\n",
    "ps = sim.particles\n",
    "da0 = ps[2].a-ps[1].a # initial diff in a\n",
    "dr0 = ps[2].a*ps[2].e\n",
    "conj_idx = 0 # initializing \n",
    "\n",
    "Rh = ps[1].a*epsilon # hill radius"
   ]
  },
  {
   "cell_type": "code",
   "execution_count": null,
   "metadata": {},
   "outputs": [],
   "source": [
    "# integrate \n",
    "\n",
    "Nout = 1000\n",
    "da, dl, pomega2, phi_arr = np.zeros(Nout), np.zeros(Nout), np.zeros(Nout), np.zeros(Nout)\n",
    "times = np.linspace(tmin, tmax, Nout)\n",
    "for i, time in enumerate(times):\n",
    "    sim.integrate(time)\n",
    "    da[i] = ps[2].a - ps[1].a\n",
    "    dl[i] = ps[2].l - ps[1].l\n",
    "    pomega2[i] = ps[2].pomega #pomega of test particle\n",
    "    phi_arr[i] = ps[2].l - ps[2].pomega\n",
    "\n",
    "daf = ps[2].a-ps[1].a # final diff in a\n",
    "drf = ps[2].a*ps[2].e\n",
    "\n",
    "# find the index of conjunciton via min of da (they are closest exactly at conj)\n",
    "conj_idx = np.argmin(da)\n",
    "_, da0_plot, daf_plot = calc_Delta_a(da, conj_idx)\n"
   ]
  },
  {
   "cell_type": "code",
   "execution_count": null,
   "metadata": {},
   "outputs": [],
   "source": [
    "# plot da throughout encounter\n",
    "\n",
    "fig, ax = plt.subplots()\n",
    "ax.plot(times, da)\n",
    "t_before_conj = times[:conj_idx]\n",
    "t_after_conj = times[conj_idx:]\n",
    "ax.plot(t_before_conj, np.ones_like(t_before_conj)*da0_plot, label='pre-conjunction')\n",
    "ax.plot(t_after_conj, np.ones_like(t_after_conj)*da0_plot, c='C1', linestyle='--')\n",
    "ax.plot(t_after_conj, np.ones_like(t_after_conj)*daf_plot, label='post-conjunction')\n",
    "ax.axvline(times[conj_idx], da[conj_idx]) # conjunction location\n",
    "ax.annotate('$a_i={:.4e}$'.format(da0_plot), (-70, .006722))\n",
    "ax.annotate('$a_f={:.4e}$'.format(daf_plot), (20, .006720))\n",
    "ax.annotate(\"\", (20, da0_plot), (20, daf_plot), arrowprops={'arrowstyle':'<->','shrinkA':0, 'shrinkB':0,'linewidth':2, 'color':'black'})\n",
    "ax.annotate('$\\Delta a={:.4e}$'.format(da0_plot-daf_plot), (22, .0067217))\n",
    "ax.set(xlabel='Time (Earth years)', ylabel='$a = a_2 - a_1$ (Au)') #title='Evolution of Relative Semimajor Axis during Conjunction')\n",
    "#ax.legend()\n",
    "fig.tight_layout()\n",
    "fig.savefig('delta_a.pdf')\n",
    "\n",
    "fig, ax = plt.subplots()\n",
    "ax.plot(times, dl)\n"
   ]
  },
  {
   "cell_type": "code",
   "execution_count": null,
   "metadata": {},
   "outputs": [],
   "source": [
    "# compare kicks to a (n-body vs Namouni)\n",
    "\n",
    "# integrate system for a range of initial test particle eccentricities\n",
    "Nout = 100000 # num time steps in integration\n",
    "N = 10 #\n",
    "etilde_list = np.linspace(0.001, .2, N)\n",
    "a_kicks, paper_1, paper_2, paper_3, paper_4 = np.zeros(N), np.zeros(N), np.zeros(N), np.zeros(N), np.zeros(N)\n",
    "for idx, etilde in enumerate(etilde_list):\n",
    "    #setup\n",
    "    e = etilde*ec\n",
    "    sim = setup(t0=tmin,to_print=False)\n",
    "    ps = sim.particles\n",
    "    da0 = ps[2].a-ps[1].a\n",
    "\n",
    "    # integration\n",
    "    x, y, da, dl, pomega2, phi_arr = np.zeros(Nout), np.zeros(Nout), np.zeros(Nout), np.zeros(Nout), np.zeros(Nout), np.zeros(Nout)\n",
    "    times = np.linspace(tmin, tmax, Nout)\n",
    "    for i, time in enumerate(times):\n",
    "        sim.integrate(time)\n",
    "        da[i] = ps[2].a - ps[1].a\n",
    "        dl[i] = ps[2].l - ps[1].l\n",
    "        pomega2[i] = ps[2].pomega #pomega of test particle\n",
    "        x[i] = ps[2].d - ps[1].d\n",
    "        phi_arr[i] = ps[2].l - ps[2].pomega\n",
    "\n",
    "    dl = np.unwrap(dl) # removes 2*pi jumps in dl\n",
    "    \n",
    "    # conjunction index, angle at conjunction\n",
    "    conj_idx = np.argmin(np.abs(dl))\n",
    "\n",
    "    theta = phi_arr[conj_idx] # angle at conjunction\n",
    "    print(theta)\n",
    "\n",
    "    # n-body solution\n",
    "    Delta_a, da0, daf = calc_Delta_a(da, conj_idx)\n",
    "    \n",
    "    #delta_a = daf - da0\n",
    "    a_kicks[idx] = Delta_a / ps[1].a\n",
    "\n",
    "    # Namouni solution\n",
    "    paper_1[idx] = -8/9 * mu / ec**2 * (etilde*np.sin(theta)*W1) # 1st order approx\n",
    "    paper_2[idx] = -8/9 * mu / ec**2 * (etilde*np.sin(theta)*W1 + 2*etilde**2*np.sin(2*theta)*W2) # 2nd order approx\n",
    "    paper_3[idx] = -8/9 * mu / ec**2 * (etilde*np.sin(theta)*W1 + 2*etilde**2*np.sin(2*theta)*W2 + 3*W3*etilde**3*np.sin(3*theta)) # 3rd order approx\n",
    "    paper_4[idx] = -8/9 * mu / ec**2 * (etilde*np.sin(theta)*W1 + 2*etilde**2*np.sin(2*theta)*W2 + 3*W3*etilde**3*np.sin(3*theta) + 4*W4*etilde**4*np.sin(4*theta)) # 4th order approx\n",
    "    \n",
    "    # signs need to alternate to match the n body simulation?\n"
   ]
  },
  {
   "cell_type": "markdown",
   "metadata": {},
   "source": [
    "Comparing"
   ]
  },
  {
   "cell_type": "code",
   "execution_count": null,
   "metadata": {},
   "outputs": [],
   "source": [
    "# plot comparison of kicks to a (n-body vs Namouni)\n",
    "\n",
    "fig, ax = plt.subplots()\n",
    "ax.plot(etilde_list, a_kicks, 'k-', linewidth=2, label='Numerical (REBOUND)')\n",
    "ax.plot(etilde_list, paper_1, '--', label='1st order Namouni')\n",
    "ax.plot(etilde_list, paper_2, '--', label='2nd order Namouni', c='red')\n",
    "ax.plot(etilde_list, paper_3, '--', label='3rd order Namouni')\n",
    "ax.plot(etilde_list, paper_4, '--', label='4th order Namouni')\n",
    "#ax.set_xlim(0, 0.08)\n",
    "#ax.set_ylim(-1.6*1e-6, 0.05*1e-6)\n",
    "ax.set(xlabel=\"$\\\\tilde{e}$\", ylabel='$\\Delta a$/$a_0$ (Au)', title='Namouni vs Numerical Solutions for $\\\\frac{\\Delta a}{a_0}$')\n",
    "\n",
    "ax.legend()\n",
    "#fig.savefig('comp_plot.pdf') # pdf\n",
    "fig.savefig('comp_plot.png', dpi=300) # png\n"
   ]
  },
  {
   "cell_type": "code",
   "execution_count": null,
   "metadata": {},
   "outputs": [],
   "source": []
  }
 ],
 "metadata": {
  "kernelspec": {
   "display_name": "Python 3 (ipykernel)",
   "language": "python",
   "name": "python3"
  },
  "language_info": {
   "codemirror_mode": {
    "name": "ipython",
    "version": 3
   },
   "file_extension": ".py",
   "mimetype": "text/x-python",
   "name": "python",
   "nbconvert_exporter": "python",
   "pygments_lexer": "ipython3",
   "version": "3.11.5"
  }
 },
 "nbformat": 4,
 "nbformat_minor": 2
}
